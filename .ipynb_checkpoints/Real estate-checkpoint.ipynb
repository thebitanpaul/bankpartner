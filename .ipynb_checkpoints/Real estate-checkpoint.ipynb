{
 "cells": [
  {
   "cell_type": "markdown",
   "id": "5b820f6b",
   "metadata": {},
   "source": [
    "# Real estate price predictor\n"
   ]
  },
  {
   "cell_type": "code",
   "execution_count": 3,
   "id": "e960e6b1",
   "metadata": {},
   "outputs": [],
   "source": [
    "import numpy as np\n",
    "import pandas as pd\n",
    "import pickle"
   ]
  },
  {
   "cell_type": "code",
   "execution_count": 21,
   "id": "ba131c8d",
   "metadata": {},
   "outputs": [],
   "source": [
    "housing=pd.read_csv(\"arunachal.csv\")"
   ]
  },
  {
   "cell_type": "code",
   "execution_count": 22,
   "id": "5086d9da",
   "metadata": {},
   "outputs": [
    {
     "data": {
      "text/html": [
       "<div>\n",
       "<style scoped>\n",
       "    .dataframe tbody tr th:only-of-type {\n",
       "        vertical-align: middle;\n",
       "    }\n",
       "\n",
       "    .dataframe tbody tr th {\n",
       "        vertical-align: top;\n",
       "    }\n",
       "\n",
       "    .dataframe thead th {\n",
       "        text-align: right;\n",
       "    }\n",
       "</style>\n",
       "<table border=\"1\" class=\"dataframe\">\n",
       "  <thead>\n",
       "    <tr style=\"text-align: right;\">\n",
       "      <th></th>\n",
       "      <th>Area in sq ft</th>\n",
       "      <th>BHK</th>\n",
       "      <th>Bathroom</th>\n",
       "      <th>Balcony</th>\n",
       "      <th>Parking</th>\n",
       "      <th>Furnishing</th>\n",
       "      <th>Price in rupees</th>\n",
       "    </tr>\n",
       "  </thead>\n",
       "  <tbody>\n",
       "    <tr>\n",
       "      <th>0</th>\n",
       "      <td>650</td>\n",
       "      <td>1</td>\n",
       "      <td>1</td>\n",
       "      <td>1</td>\n",
       "      <td>1</td>\n",
       "      <td>1</td>\n",
       "      <td>3900000</td>\n",
       "    </tr>\n",
       "    <tr>\n",
       "      <th>1</th>\n",
       "      <td>2538</td>\n",
       "      <td>3</td>\n",
       "      <td>4</td>\n",
       "      <td>3</td>\n",
       "      <td>1</td>\n",
       "      <td>0</td>\n",
       "      <td>9075000</td>\n",
       "    </tr>\n",
       "    <tr>\n",
       "      <th>2</th>\n",
       "      <td>1295</td>\n",
       "      <td>2</td>\n",
       "      <td>2</td>\n",
       "      <td>2</td>\n",
       "      <td>0</td>\n",
       "      <td>0</td>\n",
       "      <td>5690000</td>\n",
       "    </tr>\n",
       "    <tr>\n",
       "      <th>3</th>\n",
       "      <td>1825</td>\n",
       "      <td>4</td>\n",
       "      <td>3</td>\n",
       "      <td>3</td>\n",
       "      <td>1</td>\n",
       "      <td>1</td>\n",
       "      <td>8375000</td>\n",
       "    </tr>\n",
       "    <tr>\n",
       "      <th>4</th>\n",
       "      <td>1050</td>\n",
       "      <td>2</td>\n",
       "      <td>2</td>\n",
       "      <td>1</td>\n",
       "      <td>0</td>\n",
       "      <td>1</td>\n",
       "      <td>5640000</td>\n",
       "    </tr>\n",
       "  </tbody>\n",
       "</table>\n",
       "</div>"
      ],
      "text/plain": [
       "   Area in sq ft  BHK  Bathroom  Balcony  Parking  Furnishing  Price in rupees\n",
       "0            650    1         1        1        1           1          3900000\n",
       "1           2538    3         4        3        1           0          9075000\n",
       "2           1295    2         2        2        0           0          5690000\n",
       "3           1825    4         3        3        1           1          8375000\n",
       "4           1050    2         2        1        0           1          5640000"
      ]
     },
     "execution_count": 22,
     "metadata": {},
     "output_type": "execute_result"
    }
   ],
   "source": [
    "housing.head()"
   ]
  },
  {
   "cell_type": "code",
   "execution_count": 23,
   "id": "be7d5ed6",
   "metadata": {},
   "outputs": [
    {
     "name": "stdout",
     "output_type": "stream",
     "text": [
      "<class 'pandas.core.frame.DataFrame'>\n",
      "RangeIndex: 49 entries, 0 to 48\n",
      "Data columns (total 7 columns):\n",
      " #   Column           Non-Null Count  Dtype\n",
      "---  ------           --------------  -----\n",
      " 0   Area in sq ft    49 non-null     int64\n",
      " 1   BHK              49 non-null     int64\n",
      " 2   Bathroom         49 non-null     int64\n",
      " 3   Balcony          49 non-null     int64\n",
      " 4   Parking          49 non-null     int64\n",
      " 5   Furnishing       49 non-null     int64\n",
      " 6   Price in rupees  49 non-null     int64\n",
      "dtypes: int64(7)\n",
      "memory usage: 2.8 KB\n"
     ]
    }
   ],
   "source": [
    "housing.info()"
   ]
  },
  {
   "cell_type": "code",
   "execution_count": 24,
   "id": "3017345f",
   "metadata": {},
   "outputs": [
    {
     "data": {
      "text/html": [
       "<div>\n",
       "<style scoped>\n",
       "    .dataframe tbody tr th:only-of-type {\n",
       "        vertical-align: middle;\n",
       "    }\n",
       "\n",
       "    .dataframe tbody tr th {\n",
       "        vertical-align: top;\n",
       "    }\n",
       "\n",
       "    .dataframe thead th {\n",
       "        text-align: right;\n",
       "    }\n",
       "</style>\n",
       "<table border=\"1\" class=\"dataframe\">\n",
       "  <thead>\n",
       "    <tr style=\"text-align: right;\">\n",
       "      <th></th>\n",
       "      <th>Area in sq ft</th>\n",
       "      <th>BHK</th>\n",
       "      <th>Bathroom</th>\n",
       "      <th>Balcony</th>\n",
       "      <th>Parking</th>\n",
       "      <th>Furnishing</th>\n",
       "      <th>Price in rupees</th>\n",
       "    </tr>\n",
       "  </thead>\n",
       "  <tbody>\n",
       "    <tr>\n",
       "      <th>count</th>\n",
       "      <td>49.000000</td>\n",
       "      <td>49.000000</td>\n",
       "      <td>49.000000</td>\n",
       "      <td>49.000000</td>\n",
       "      <td>49.000000</td>\n",
       "      <td>49.000000</td>\n",
       "      <td>4.900000e+01</td>\n",
       "    </tr>\n",
       "    <tr>\n",
       "      <th>mean</th>\n",
       "      <td>2024.000000</td>\n",
       "      <td>2.795918</td>\n",
       "      <td>2.367347</td>\n",
       "      <td>1.591837</td>\n",
       "      <td>0.755102</td>\n",
       "      <td>0.469388</td>\n",
       "      <td>7.345204e+06</td>\n",
       "    </tr>\n",
       "    <tr>\n",
       "      <th>std</th>\n",
       "      <td>1969.411746</td>\n",
       "      <td>1.384130</td>\n",
       "      <td>1.253227</td>\n",
       "      <td>1.018953</td>\n",
       "      <td>0.434483</td>\n",
       "      <td>0.504234</td>\n",
       "      <td>3.664634e+06</td>\n",
       "    </tr>\n",
       "    <tr>\n",
       "      <th>min</th>\n",
       "      <td>350.000000</td>\n",
       "      <td>1.000000</td>\n",
       "      <td>1.000000</td>\n",
       "      <td>0.000000</td>\n",
       "      <td>0.000000</td>\n",
       "      <td>0.000000</td>\n",
       "      <td>2.800000e+06</td>\n",
       "    </tr>\n",
       "    <tr>\n",
       "      <th>25%</th>\n",
       "      <td>771.000000</td>\n",
       "      <td>2.000000</td>\n",
       "      <td>2.000000</td>\n",
       "      <td>1.000000</td>\n",
       "      <td>1.000000</td>\n",
       "      <td>0.000000</td>\n",
       "      <td>4.940000e+06</td>\n",
       "    </tr>\n",
       "    <tr>\n",
       "      <th>50%</th>\n",
       "      <td>1375.000000</td>\n",
       "      <td>3.000000</td>\n",
       "      <td>2.000000</td>\n",
       "      <td>1.000000</td>\n",
       "      <td>1.000000</td>\n",
       "      <td>0.000000</td>\n",
       "      <td>6.550000e+06</td>\n",
       "    </tr>\n",
       "    <tr>\n",
       "      <th>75%</th>\n",
       "      <td>2100.000000</td>\n",
       "      <td>4.000000</td>\n",
       "      <td>3.000000</td>\n",
       "      <td>3.000000</td>\n",
       "      <td>1.000000</td>\n",
       "      <td>1.000000</td>\n",
       "      <td>9.075000e+06</td>\n",
       "    </tr>\n",
       "    <tr>\n",
       "      <th>max</th>\n",
       "      <td>7304.000000</td>\n",
       "      <td>6.000000</td>\n",
       "      <td>6.000000</td>\n",
       "      <td>3.000000</td>\n",
       "      <td>1.000000</td>\n",
       "      <td>1.000000</td>\n",
       "      <td>1.677500e+07</td>\n",
       "    </tr>\n",
       "  </tbody>\n",
       "</table>\n",
       "</div>"
      ],
      "text/plain": [
       "       Area in sq ft        BHK   Bathroom    Balcony    Parking  Furnishing  \\\n",
       "count      49.000000  49.000000  49.000000  49.000000  49.000000   49.000000   \n",
       "mean     2024.000000   2.795918   2.367347   1.591837   0.755102    0.469388   \n",
       "std      1969.411746   1.384130   1.253227   1.018953   0.434483    0.504234   \n",
       "min       350.000000   1.000000   1.000000   0.000000   0.000000    0.000000   \n",
       "25%       771.000000   2.000000   2.000000   1.000000   1.000000    0.000000   \n",
       "50%      1375.000000   3.000000   2.000000   1.000000   1.000000    0.000000   \n",
       "75%      2100.000000   4.000000   3.000000   3.000000   1.000000    1.000000   \n",
       "max      7304.000000   6.000000   6.000000   3.000000   1.000000    1.000000   \n",
       "\n",
       "       Price in rupees  \n",
       "count     4.900000e+01  \n",
       "mean      7.345204e+06  \n",
       "std       3.664634e+06  \n",
       "min       2.800000e+06  \n",
       "25%       4.940000e+06  \n",
       "50%       6.550000e+06  \n",
       "75%       9.075000e+06  \n",
       "max       1.677500e+07  "
      ]
     },
     "execution_count": 24,
     "metadata": {},
     "output_type": "execute_result"
    }
   ],
   "source": [
    "housing.describe()"
   ]
  },
  {
   "cell_type": "code",
   "execution_count": 25,
   "id": "4cc4071e",
   "metadata": {},
   "outputs": [],
   "source": [
    "x = housing.iloc[:,:-1].values\n",
    "y = housing.iloc[:,-1].values"
   ]
  },
  {
   "cell_type": "markdown",
   "id": "f597c61c",
   "metadata": {},
   "source": [
    "## Train-Test Splitting\n"
   ]
  },
  {
   "cell_type": "code",
   "execution_count": 26,
   "id": "49301b5d",
   "metadata": {},
   "outputs": [],
   "source": [
    "from sklearn.model_selection import train_test_split\n",
    "X_train, X_test, Y_train, Y_test= train_test_split(\n",
    "x,y, test_size=0.2, random_state=1)\n"
   ]
  },
  {
   "cell_type": "code",
   "execution_count": 10,
   "id": "25d0337b",
   "metadata": {},
   "outputs": [
    {
     "data": {
      "text/plain": [
       "array([[1400,    3,    3,    2,    1,    0],\n",
       "       [2775,    4,    2,    1,    0,    0],\n",
       "       [1058,    2,    2,    1,    1,    1],\n",
       "       [6015,    5,    2,    0,    1,    1],\n",
       "       [ 560,    1,    2,    1,    1,    0],\n",
       "       [1035,    2,    2,    2,    1,    1],\n",
       "       [6435,    5,    3,    3,    1,    0],\n",
       "       [ 700,    2,    2,    1,    1,    0],\n",
       "       [ 815,    2,    1,    1,    0,    1],\n",
       "       [3000,    5,    4,    3,    1,    0],\n",
       "       [ 900,    2,    3,    1,    1,    0],\n",
       "       [1151,    3,    2,    3,    1,    0],\n",
       "       [ 350,    1,    1,    1,    0,    0],\n",
       "       [1602,    3,    3,    3,    1,    0],\n",
       "       [ 672,    1,    1,    1,    1,    0],\n",
       "       [1050,    2,    2,    1,    0,    1],\n",
       "       [ 600,    1,    1,    1,    1,    0],\n",
       "       [ 850,    1,    1,    1,    1,    0],\n",
       "       [ 435,    1,    1,    1,    1,    1],\n",
       "       [1400,    4,    2,    1,    1,    0],\n",
       "       [4004,    4,    2,    0,    1,    1],\n",
       "       [ 380,    1,    1,    0,    0,    0],\n",
       "       [1471,    3,    2,    2,    1,    0],\n",
       "       [ 771,    1,    1,    2,    1,    1],\n",
       "       [7304,    6,    6,    3,    1,    0],\n",
       "       [1700,    3,    2,    1,    1,    0],\n",
       "       [3225,    4,    5,    3,    1,    1],\n",
       "       [1931,    3,    3,    3,    1,    0],\n",
       "       [2538,    3,    4,    3,    1,    0],\n",
       "       [ 754,    2,    2,    1,    0,    1],\n",
       "       [ 650,    1,    1,    1,    1,    1],\n",
       "       [1020,    2,    2,    1,    0,    1],\n",
       "       [1700,    3,    3,    2,    1,    0],\n",
       "       [2050,    4,    3,    3,    1,    1],\n",
       "       [ 600,    1,    1,    1,    1,    0],\n",
       "       [7015,    5,    6,    3,    1,    1],\n",
       "       [2100,    4,    3,    3,    0,    0],\n",
       "       [ 600,    1,    1,    0,    0,    0],\n",
       "       [2160,    4,    4,    2,    1,    1]], dtype=int64)"
      ]
     },
     "execution_count": 10,
     "metadata": {},
     "output_type": "execute_result"
    }
   ],
   "source": [
    "X_train"
   ]
  },
  {
   "cell_type": "code",
   "execution_count": 11,
   "id": "22f14cc6",
   "metadata": {},
   "outputs": [
    {
     "data": {
      "text/plain": [
       "LinearRegression()"
      ]
     },
     "execution_count": 11,
     "metadata": {},
     "output_type": "execute_result"
    }
   ],
   "source": [
    "from sklearn.linear_model import LinearRegression\n",
    "regression = LinearRegression()\n",
    "regression.fit(X_train, Y_train)   # Entered data for training of model"
   ]
  },
  {
   "cell_type": "code",
   "execution_count": 12,
   "id": "411761be",
   "metadata": {},
   "outputs": [
    {
     "name": "stdout",
     "output_type": "stream",
     "text": [
      "[ 6622977.92450613  5042902.79365945 14004840.33250346 15240721.214916\n",
      "  5054450.33192933  8139401.84921812  4525693.05818603  6378422.63419298\n",
      "  6300004.01486     6547445.7217952 ]\n"
     ]
    }
   ],
   "source": [
    "pred_y = regression.predict(X_test)\n",
    "print(pred_y)"
   ]
  },
  {
   "cell_type": "code",
   "execution_count": 13,
   "id": "5dfa97a1",
   "metadata": {},
   "outputs": [
    {
     "name": "stdout",
     "output_type": "stream",
     "text": [
      "[ 6550000  5140000 14090000 14940000  5150000  7815000  4440000  5990000\n",
      "  5900000  6115000]\n"
     ]
    }
   ],
   "source": [
    "print(Y_test)"
   ]
  },
  {
   "cell_type": "code",
   "execution_count": 16,
   "id": "d987e576",
   "metadata": {},
   "outputs": [],
   "source": [
    "pickle.dump(regression,open('Andhra.pkl','wb'))\n",
    "model = pickle.load(open('Andhra.pkl','rb'))"
   ]
  },
  {
   "cell_type": "code",
   "execution_count": 17,
   "id": "30c61c41",
   "metadata": {},
   "outputs": [
    {
     "name": "stdout",
     "output_type": "stream",
     "text": [
      "[3475721.28427302]\n"
     ]
    }
   ],
   "source": [
    "print(regression.predict([[650,1,2,0,1,1]]))"
   ]
  },
  {
   "cell_type": "code",
   "execution_count": null,
   "id": "8cdc11ff",
   "metadata": {},
   "outputs": [],
   "source": []
  },
  {
   "cell_type": "code",
   "execution_count": null,
   "id": "89628428",
   "metadata": {},
   "outputs": [],
   "source": []
  }
 ],
 "metadata": {
  "kernelspec": {
   "display_name": "Python 3 (ipykernel)",
   "language": "python",
   "name": "python3"
  },
  "language_info": {
   "codemirror_mode": {
    "name": "ipython",
    "version": 3
   },
   "file_extension": ".py",
   "mimetype": "text/x-python",
   "name": "python",
   "nbconvert_exporter": "python",
   "pygments_lexer": "ipython3",
   "version": "3.9.7"
  }
 },
 "nbformat": 4,
 "nbformat_minor": 5
}
